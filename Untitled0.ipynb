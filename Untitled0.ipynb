{
  "nbformat": 4,
  "nbformat_minor": 0,
  "metadata": {
    "colab": {
      "provenance": []
    },
    "kernelspec": {
      "name": "python3",
      "display_name": "Python 3"
    },
    "language_info": {
      "name": "python"
    }
  },
  "cells": [
    {
      "cell_type": "markdown",
      "source": [
        "# **Task 1: we need to downloaded the video by using python code for this we need the following steps.**\n",
        "Step 1: Install the important libraries. Below is an example using Python with the requests library. Make sure to have the requests library installed. You can install it via pip if you haven't already.\n",
        "The requests library in Python is used for making HTTP requests to interact with web resources.\n"
      ],
      "metadata": {
        "id": "LZYu7BGwRLld"
      }
    },
    {
      "cell_type": "code",
      "execution_count": 1,
      "metadata": {
        "colab": {
          "base_uri": "https://localhost:8080/"
        },
        "id": "ker20CYrMHPs",
        "outputId": "dd933011-3070-45bd-fcd6-1cc392ef57b0"
      },
      "outputs": [
        {
          "output_type": "stream",
          "name": "stdout",
          "text": [
            "Requirement already satisfied: requests in /usr/local/lib/python3.10/dist-packages (2.31.0)\n",
            "Requirement already satisfied: charset-normalizer<4,>=2 in /usr/local/lib/python3.10/dist-packages (from requests) (3.3.2)\n",
            "Requirement already satisfied: idna<4,>=2.5 in /usr/local/lib/python3.10/dist-packages (from requests) (3.7)\n",
            "Requirement already satisfied: urllib3<3,>=1.21.1 in /usr/local/lib/python3.10/dist-packages (from requests) (2.0.7)\n",
            "Requirement already satisfied: certifi>=2017.4.17 in /usr/local/lib/python3.10/dist-packages (from requests) (2024.6.2)\n"
          ]
        }
      ],
      "source": [
        "pip install requests\n"
      ]
    },
    {
      "cell_type": "markdown",
      "source": [
        "Using yt-dlp for Downloading Videos\n",
        "For more complex scenarios, such as downloading videos from streaming services like YouTube, using a specialized tool like yt-dlp is recommended. This tool can handle video extraction and download from a variety of platforms more robustly."
      ],
      "metadata": {
        "id": "1QmeYa6LODQX"
      }
    },
    {
      "cell_type": "code",
      "source": [
        "pip install yt-dlp\n"
      ],
      "metadata": {
        "colab": {
          "base_uri": "https://localhost:8080/"
        },
        "id": "rA7SAc50OD0s",
        "outputId": "6f545445-52a8-4baa-c49a-cc4829d4c131"
      },
      "execution_count": 1,
      "outputs": [
        {
          "output_type": "stream",
          "name": "stdout",
          "text": [
            "Requirement already satisfied: yt-dlp in /usr/local/lib/python3.10/dist-packages (2024.7.7)\n",
            "Requirement already satisfied: brotli in /usr/local/lib/python3.10/dist-packages (from yt-dlp) (1.1.0)\n",
            "Requirement already satisfied: certifi in /usr/local/lib/python3.10/dist-packages (from yt-dlp) (2024.6.2)\n",
            "Requirement already satisfied: mutagen in /usr/local/lib/python3.10/dist-packages (from yt-dlp) (1.47.0)\n",
            "Requirement already satisfied: pycryptodomex in /usr/local/lib/python3.10/dist-packages (from yt-dlp) (3.20.0)\n",
            "Requirement already satisfied: requests<3,>=2.32.2 in /usr/local/lib/python3.10/dist-packages (from yt-dlp) (2.32.3)\n",
            "Requirement already satisfied: urllib3<3,>=1.26.17 in /usr/local/lib/python3.10/dist-packages (from yt-dlp) (2.0.7)\n",
            "Requirement already satisfied: websockets>=12.0 in /usr/local/lib/python3.10/dist-packages (from yt-dlp) (12.0)\n",
            "Requirement already satisfied: charset-normalizer<4,>=2 in /usr/local/lib/python3.10/dist-packages (from requests<3,>=2.32.2->yt-dlp) (3.3.2)\n",
            "Requirement already satisfied: idna<4,>=2.5 in /usr/local/lib/python3.10/dist-packages (from requests<3,>=2.32.2->yt-dlp) (3.7)\n"
          ]
        }
      ]
    },
    {
      "cell_type": "markdown",
      "source": [
        "1. Downloading a File Using requests\n",
        "# Import the requests library: **bold text**\n",
        "Define a function to download a file:\n",
        "# **2. This function takes two arguments:**\n",
        "url: The web address of the file you want to download.\n",
        "output_path: The local path where you want to save the downloaded file.\n",
        "# **3. Make an HTTP GET request:**\n",
        "This line sends an HTTP GET request to the specified url. The stream=True parameter tells requests to download the content in chunks instead of loading the entire file into memory at once. This is useful for downloading large files.\n",
        "# **4. Opening a File in Write-Binary Mode:**\n",
        "This line opens a file at the specified output_path in write-binary mode ('wb'). The with statement ensures that the file is properly closed after the operation, even if an error occurs.\n",
        "# **5. Writing the Content in Chunks:**\n",
        "response.iter_content(chunk_size=1024) returns an iterator that yields chunks of the response content, each chunk being 1024 bytes in size.\n",
        "The for loop iterates over these chunks.\n",
        "if chunk: checks if the chunk is not empty.\n",
        "file.write(chunk) writes the chunk to the file.\n",
        "# **6. Printing a Success Message:**\n",
        "This line prints a message indicating that the video has been downloaded successfully and specifies the file path where it was saved.\n",
        "# **7. Example Usage:**\n",
        "video_url: The URL of the YouTube video to be downloaded.\n",
        "output_file: The path where the downloaded video will be saved.\n",
        "download_video(video_url, output_file): Calls the download_video function with the specified video_url and output_file."
      ],
      "metadata": {
        "id": "A8i02yIzWTeT"
      }
    },
    {
      "cell_type": "code",
      "source": [
        "import requests\n",
        "\n",
        "def download_video(url, output_path):\n",
        "    response = requests.get(url, stream=True)\n",
        "    with open(output_path, 'wb') as file:\n",
        "        for chunk in response.iter_content(chunk_size=1024):\n",
        "            if chunk:\n",
        "                file.write(chunk)\n",
        "    print(f\"Video downloaded successfully to {output_path}\")\n",
        "\n",
        "# Example usage\n",
        "video_url = 'https://www.youtube.com/watch?v=pm0nfxgTVks'\n",
        "output_file = 'downloaded_video.mp4'\n",
        "download_video(video_url, output_file)\n"
      ],
      "metadata": {
        "colab": {
          "base_uri": "https://localhost:8080/"
        },
        "id": "GvSpYKnJMlqP",
        "outputId": "a84b6ee7-d67f-41e1-84c7-94b23352fdde"
      },
      "execution_count": 2,
      "outputs": [
        {
          "output_type": "stream",
          "name": "stdout",
          "text": [
            "Video downloaded successfully to downloaded_video.mp4\n"
          ]
        }
      ]
    },
    {
      "cell_type": "code",
      "source": [
        "import yt_dlp\n",
        "\n",
        "def download_video(url, output_path):\n",
        "    ydl_opts = {\n",
        "        'outtmpl': output_path\n",
        "    }\n",
        "\n",
        "    with yt_dlp.YoutubeDL(ydl_opts) as ydl:\n",
        "        ydl.download([url])\n",
        "\n",
        "# Example usage\n",
        "video_url = 'https://www.youtube.com/watch?v=pm0nfxgTVks'\n",
        "output_file = 'downloaded_video.mp4'\n",
        "download_video(video_url, output_file)\n"
      ],
      "metadata": {
        "colab": {
          "base_uri": "https://localhost:8080/"
        },
        "id": "fl_OxsHhOr59",
        "outputId": "43356a29-6e60-4adc-9734-29c191307ed9"
      },
      "execution_count": 5,
      "outputs": [
        {
          "output_type": "stream",
          "name": "stdout",
          "text": [
            "[youtube] Extracting URL: https://www.youtube.com/watch?v=pm0nfxgTVks\n",
            "[youtube] pm0nfxgTVks: Downloading webpage\n",
            "[youtube] pm0nfxgTVks: Downloading ios player API JSON\n",
            "[youtube] pm0nfxgTVks: Downloading player 5352eb4f\n",
            "[youtube] pm0nfxgTVks: Downloading m3u8 information\n",
            "[info] pm0nfxgTVks: Downloading 1 format(s): 247+251\n",
            "[download] Destination: downloaded_video.mp4.f247.webm\n",
            "[download] 100% of   41.10MiB in 00:00:01 at 33.89MiB/s  \n",
            "[download] Destination: downloaded_video.mp4.f251.webm\n",
            "[download] 100% of   11.41MiB in 00:00:00 at 32.81MiB/s  \n",
            "[Merger] Merging formats into \"downloaded_video.mp4.webm\"\n",
            "Deleting original file downloaded_video.mp4.f251.webm (pass -k to keep)\n",
            "Deleting original file downloaded_video.mp4.f247.webm (pass -k to keep)\n"
          ]
        }
      ]
    },
    {
      "cell_type": "code",
      "source": [],
      "metadata": {
        "id": "cNwZas-gPE0l"
      },
      "execution_count": null,
      "outputs": []
    }
  ]
}